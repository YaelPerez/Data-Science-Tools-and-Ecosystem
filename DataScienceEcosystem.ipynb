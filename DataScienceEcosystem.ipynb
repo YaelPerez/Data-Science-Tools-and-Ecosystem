{
 "cells": [
  {
   "cell_type": "markdown",
   "id": "5262391e-0676-4e2a-806e-c6c6512b5faa",
   "metadata": {},
   "source": [
    "# Data Science Tools and Ecosystem"
   ]
  },
  {
   "cell_type": "markdown",
   "id": "65b39f6d-9fc6-4334-a83f-d70e547c0ae7",
   "metadata": {},
   "source": [
    "## Author\n",
    "Ricardo Yael Pérez Rincón"
   ]
  },
  {
   "cell_type": "markdown",
   "id": "0ae35b03-34ce-4493-abff-ad0b4aee2496",
   "metadata": {},
   "source": [
    "Introduction\n",
    "Here, Data Sciente Tools and Ecosystem are sumarized"
   ]
  },
  {
   "cell_type": "markdown",
   "id": "e6e9e56f-cf31-4223-8d46-b4416a882da5",
   "metadata": {},
   "source": [
    "**Objectives:**\n",
    "- List popular languages for Data Science\n",
    "- List popular libraries for Data Science\n",
    "- List some popular Data Science Tools\n",
    "- Show how to implement some arithmetic expressions"
   ]
  },
  {
   "cell_type": "markdown",
   "id": "9f5148fc-3896-4572-866c-b100676ecc3b",
   "metadata": {},
   "source": [
    "Some of the most popular languages that Data Scientist use are:\n",
    "1. Python\n",
    "2. R\n",
    "3. Julia"
   ]
  },
  {
   "cell_type": "markdown",
   "id": "d5878a61-a002-4d32-8cff-c452d311a8ec",
   "metadata": {},
   "source": [
    "Some of the commonly used libraries used by Data Scientists include:\n",
    "1. Pandas\n",
    "2. Numpy\n",
    "3. Plotly"
   ]
  },
  {
   "cell_type": "markdown",
   "id": "9ee3c5b0-19e0-44ec-b5be-a330715e3eb8",
   "metadata": {},
   "source": [
    "|Data Siencie Tools|\n",
    "--------------------\n",
    "|RStudio           |\n",
    "|Apache Spark      |\n",
    "|Tensor Flow       |"
   ]
  },
  {
   "cell_type": "markdown",
   "id": "e075acc7-271e-4cdc-9d3b-7abc87b66f83",
   "metadata": {},
   "source": [
    "### Below are a few examples of evaluating arithmetic expressions in Python:"
   ]
  },
  {
   "cell_type": "code",
   "execution_count": 1,
   "id": "e33b06a6-b5a4-496a-80f8-921ed8d73127",
   "metadata": {},
   "outputs": [
    {
     "data": {
      "text/plain": [
       "17"
      ]
     },
     "execution_count": 1,
     "metadata": {},
     "output_type": "execute_result"
    }
   ],
   "source": [
    "(3*4)+5\n",
    "#This a simple arithmetic expression to mutiply then add integers"
   ]
  },
  {
   "cell_type": "code",
   "execution_count": 5,
   "id": "44df50b2-a655-409c-b471-2d07c987e42b",
   "metadata": {},
   "outputs": [
    {
     "name": "stdout",
     "output_type": "stream",
     "text": [
      "200 minutes are 3 hours and 20 minutes.\n"
     ]
    }
   ],
   "source": [
    "hour = 200//60\n",
    "minutes = 200 % 60\n",
    "print(\"200 minutes are \"+str(hour)+\" hours and \"+str(minutes)+\" minutes.\")\n",
    "#This will convert 200 minutes to hours by diving by 60"
   ]
  }
 ],
 "metadata": {
  "kernelspec": {
   "display_name": "Python",
   "language": "python",
   "name": "conda-env-python-py"
  },
  "language_info": {
   "codemirror_mode": {
    "name": "ipython",
    "version": 3
   },
   "file_extension": ".py",
   "mimetype": "text/x-python",
   "name": "python",
   "nbconvert_exporter": "python",
   "pygments_lexer": "ipython3",
   "version": "3.7.12"
  }
 },
 "nbformat": 4,
 "nbformat_minor": 5
}
